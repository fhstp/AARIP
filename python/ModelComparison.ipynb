{
 "cells": [
  {
   "cell_type": "markdown",
   "metadata": {},
   "source": [
    "# Model Training"
   ]
  },
  {
   "cell_type": "code",
   "execution_count": 28,
   "metadata": {},
   "outputs": [],
   "source": [
    "import pandas as pd\n",
    "import numpy as np\n",
    "import matplotlib.pyplot as plt\n",
    "from sklearn.metrics import confusion_matrix\n",
    "from sklearn.model_selection import train_test_split\n",
    "from keras.layers import Dense\n",
    "from keras.utils import to_categorical\n",
    "from sklearn import svm\n",
    "\n",
    "import os, json, sklearn, keras"
   ]
  },
  {
   "cell_type": "markdown",
   "metadata": {},
   "source": [
    "# Load Data"
   ]
  },
  {
   "cell_type": "code",
   "execution_count": 29,
   "metadata": {},
   "outputs": [],
   "source": [
    "with open('numericLabels.json') as f:\n",
    "    numericLabels = json.load(f)"
   ]
  },
  {
   "cell_type": "code",
   "execution_count": 30,
   "metadata": {},
   "outputs": [],
   "source": [
    "data = pd.read_csv('completeDataSchmierLuefterFilamOnly.csv',index_col=0,header=[0,1])"
   ]
  },
  {
   "cell_type": "code",
   "execution_count": 31,
   "metadata": {},
   "outputs": [
    {
     "data": {
      "text/html": [
       "<div>\n",
       "<style>\n",
       "    .dataframe thead tr:only-child th {\n",
       "        text-align: right;\n",
       "    }\n",
       "\n",
       "    .dataframe thead th {\n",
       "        text-align: left;\n",
       "    }\n",
       "\n",
       "    .dataframe tbody tr th {\n",
       "        vertical-align: top;\n",
       "    }\n",
       "</style>\n",
       "<table border=\"1\" class=\"dataframe\">\n",
       "  <thead>\n",
       "    <tr style=\"text-align: right;\">\n",
       "      <th></th>\n",
       "      <th>0</th>\n",
       "    </tr>\n",
       "  </thead>\n",
       "  <tbody>\n",
       "    <tr>\n",
       "      <th>count</th>\n",
       "      <td>2112.000000</td>\n",
       "    </tr>\n",
       "    <tr>\n",
       "      <th>mean</th>\n",
       "      <td>0.500000</td>\n",
       "    </tr>\n",
       "    <tr>\n",
       "      <th>std</th>\n",
       "      <td>0.500118</td>\n",
       "    </tr>\n",
       "    <tr>\n",
       "      <th>min</th>\n",
       "      <td>0.000000</td>\n",
       "    </tr>\n",
       "    <tr>\n",
       "      <th>25%</th>\n",
       "      <td>0.000000</td>\n",
       "    </tr>\n",
       "    <tr>\n",
       "      <th>50%</th>\n",
       "      <td>0.500000</td>\n",
       "    </tr>\n",
       "    <tr>\n",
       "      <th>75%</th>\n",
       "      <td>1.000000</td>\n",
       "    </tr>\n",
       "    <tr>\n",
       "      <th>max</th>\n",
       "      <td>1.000000</td>\n",
       "    </tr>\n",
       "  </tbody>\n",
       "</table>\n",
       "</div>"
      ],
      "text/plain": [
       "                 0\n",
       "count  2112.000000\n",
       "mean      0.500000\n",
       "std       0.500118\n",
       "min       0.000000\n",
       "25%       0.000000\n",
       "50%       0.500000\n",
       "75%       1.000000\n",
       "max       1.000000"
      ]
     },
     "execution_count": 31,
     "metadata": {},
     "output_type": "execute_result"
    }
   ],
   "source": [
    "((data['label']>0)*1).describe()"
   ]
  },
  {
   "cell_type": "markdown",
   "metadata": {},
   "source": [
    "# Split x,y,test,train"
   ]
  },
  {
   "cell_type": "code",
   "execution_count": 32,
   "metadata": {},
   "outputs": [
    {
     "data": {
      "text/html": [
       "<div>\n",
       "<style>\n",
       "    .dataframe thead tr:only-child th {\n",
       "        text-align: right;\n",
       "    }\n",
       "\n",
       "    .dataframe thead th {\n",
       "        text-align: left;\n",
       "    }\n",
       "\n",
       "    .dataframe tbody tr th {\n",
       "        vertical-align: top;\n",
       "    }\n",
       "</style>\n",
       "<table border=\"1\" class=\"dataframe\">\n",
       "  <thead>\n",
       "    <tr>\n",
       "      <th></th>\n",
       "      <th colspan=\"10\" halign=\"left\">mfcc__01411riemen</th>\n",
       "      <th>...</th>\n",
       "      <th colspan=\"6\" halign=\"left\">mfcc__08DPA2</th>\n",
       "      <th>s_centroid__08DPA2</th>\n",
       "      <th>rmse__08DPA2</th>\n",
       "      <th>s_bw__08DPA2</th>\n",
       "      <th>s_roll__08DPA2</th>\n",
       "    </tr>\n",
       "    <tr>\n",
       "      <th></th>\n",
       "      <th>0</th>\n",
       "      <th>1</th>\n",
       "      <th>2</th>\n",
       "      <th>3</th>\n",
       "      <th>4</th>\n",
       "      <th>5</th>\n",
       "      <th>6</th>\n",
       "      <th>7</th>\n",
       "      <th>8</th>\n",
       "      <th>9</th>\n",
       "      <th>...</th>\n",
       "      <th>9</th>\n",
       "      <th>10</th>\n",
       "      <th>11</th>\n",
       "      <th>12</th>\n",
       "      <th>13</th>\n",
       "      <th>14</th>\n",
       "      <th>0</th>\n",
       "      <th>0</th>\n",
       "      <th>0</th>\n",
       "      <th>0</th>\n",
       "    </tr>\n",
       "  </thead>\n",
       "  <tbody>\n",
       "    <tr>\n",
       "      <th>count</th>\n",
       "      <td>2112.000000</td>\n",
       "      <td>2112.000000</td>\n",
       "      <td>2112.000000</td>\n",
       "      <td>2112.000000</td>\n",
       "      <td>2112.000000</td>\n",
       "      <td>2112.000000</td>\n",
       "      <td>2112.000000</td>\n",
       "      <td>2112.000000</td>\n",
       "      <td>2112.000000</td>\n",
       "      <td>2112.000000</td>\n",
       "      <td>...</td>\n",
       "      <td>2112.000000</td>\n",
       "      <td>2112.000000</td>\n",
       "      <td>2112.000000</td>\n",
       "      <td>2112.000000</td>\n",
       "      <td>2112.000000</td>\n",
       "      <td>2.112000e+03</td>\n",
       "      <td>2112.000000</td>\n",
       "      <td>2112.000000</td>\n",
       "      <td>2112.000000</td>\n",
       "      <td>2112.000000</td>\n",
       "    </tr>\n",
       "    <tr>\n",
       "      <th>mean</th>\n",
       "      <td>0.199131</td>\n",
       "      <td>0.177811</td>\n",
       "      <td>0.183231</td>\n",
       "      <td>0.184432</td>\n",
       "      <td>0.162540</td>\n",
       "      <td>0.135417</td>\n",
       "      <td>0.134149</td>\n",
       "      <td>0.129355</td>\n",
       "      <td>0.101557</td>\n",
       "      <td>0.074074</td>\n",
       "      <td>...</td>\n",
       "      <td>0.022890</td>\n",
       "      <td>0.008528</td>\n",
       "      <td>0.010046</td>\n",
       "      <td>-0.004013</td>\n",
       "      <td>0.009074</td>\n",
       "      <td>-3.481023e-07</td>\n",
       "      <td>0.101315</td>\n",
       "      <td>0.760562</td>\n",
       "      <td>0.110123</td>\n",
       "      <td>0.274424</td>\n",
       "    </tr>\n",
       "    <tr>\n",
       "      <th>std</th>\n",
       "      <td>0.064254</td>\n",
       "      <td>0.057732</td>\n",
       "      <td>0.060081</td>\n",
       "      <td>0.060707</td>\n",
       "      <td>0.056112</td>\n",
       "      <td>0.052098</td>\n",
       "      <td>0.047529</td>\n",
       "      <td>0.041667</td>\n",
       "      <td>0.037848</td>\n",
       "      <td>0.035254</td>\n",
       "      <td>...</td>\n",
       "      <td>0.011740</td>\n",
       "      <td>0.011366</td>\n",
       "      <td>0.011885</td>\n",
       "      <td>0.010917</td>\n",
       "      <td>0.010403</td>\n",
       "      <td>1.113529e-02</td>\n",
       "      <td>0.012755</td>\n",
       "      <td>0.261109</td>\n",
       "      <td>0.012571</td>\n",
       "      <td>0.035965</td>\n",
       "    </tr>\n",
       "    <tr>\n",
       "      <th>min</th>\n",
       "      <td>0.000000</td>\n",
       "      <td>0.000000</td>\n",
       "      <td>0.000000</td>\n",
       "      <td>0.000000</td>\n",
       "      <td>0.000000</td>\n",
       "      <td>0.000000</td>\n",
       "      <td>0.000000</td>\n",
       "      <td>0.000000</td>\n",
       "      <td>0.000000</td>\n",
       "      <td>0.000000</td>\n",
       "      <td>...</td>\n",
       "      <td>-0.003412</td>\n",
       "      <td>-0.020701</td>\n",
       "      <td>-0.020433</td>\n",
       "      <td>-0.034928</td>\n",
       "      <td>-0.019037</td>\n",
       "      <td>-2.925572e-02</td>\n",
       "      <td>0.000000</td>\n",
       "      <td>0.000000</td>\n",
       "      <td>0.000000</td>\n",
       "      <td>0.000000</td>\n",
       "    </tr>\n",
       "    <tr>\n",
       "      <th>25%</th>\n",
       "      <td>0.145705</td>\n",
       "      <td>0.134663</td>\n",
       "      <td>0.138259</td>\n",
       "      <td>0.141214</td>\n",
       "      <td>0.122434</td>\n",
       "      <td>0.097652</td>\n",
       "      <td>0.100820</td>\n",
       "      <td>0.101046</td>\n",
       "      <td>0.076844</td>\n",
       "      <td>0.050467</td>\n",
       "      <td>...</td>\n",
       "      <td>0.015774</td>\n",
       "      <td>0.001342</td>\n",
       "      <td>0.002481</td>\n",
       "      <td>-0.010990</td>\n",
       "      <td>0.002519</td>\n",
       "      <td>-6.653282e-03</td>\n",
       "      <td>0.098620</td>\n",
       "      <td>0.641979</td>\n",
       "      <td>0.109173</td>\n",
       "      <td>0.274380</td>\n",
       "    </tr>\n",
       "    <tr>\n",
       "      <th>50%</th>\n",
       "      <td>0.200634</td>\n",
       "      <td>0.172321</td>\n",
       "      <td>0.178298</td>\n",
       "      <td>0.179787</td>\n",
       "      <td>0.154957</td>\n",
       "      <td>0.122263</td>\n",
       "      <td>0.121661</td>\n",
       "      <td>0.120828</td>\n",
       "      <td>0.091306</td>\n",
       "      <td>0.059887</td>\n",
       "      <td>...</td>\n",
       "      <td>0.021302</td>\n",
       "      <td>0.007127</td>\n",
       "      <td>0.009440</td>\n",
       "      <td>-0.004812</td>\n",
       "      <td>0.008340</td>\n",
       "      <td>-2.744602e-04</td>\n",
       "      <td>0.102890</td>\n",
       "      <td>0.691265</td>\n",
       "      <td>0.111623</td>\n",
       "      <td>0.282988</td>\n",
       "    </tr>\n",
       "    <tr>\n",
       "      <th>75%</th>\n",
       "      <td>0.236357</td>\n",
       "      <td>0.208111</td>\n",
       "      <td>0.218792</td>\n",
       "      <td>0.219504</td>\n",
       "      <td>0.194662</td>\n",
       "      <td>0.165725</td>\n",
       "      <td>0.164704</td>\n",
       "      <td>0.155373</td>\n",
       "      <td>0.121751</td>\n",
       "      <td>0.093680</td>\n",
       "      <td>...</td>\n",
       "      <td>0.027938</td>\n",
       "      <td>0.013642</td>\n",
       "      <td>0.016086</td>\n",
       "      <td>0.001525</td>\n",
       "      <td>0.014604</td>\n",
       "      <td>5.695588e-03</td>\n",
       "      <td>0.106757</td>\n",
       "      <td>0.778419</td>\n",
       "      <td>0.113762</td>\n",
       "      <td>0.289352</td>\n",
       "    </tr>\n",
       "    <tr>\n",
       "      <th>max</th>\n",
       "      <td>0.441394</td>\n",
       "      <td>0.395374</td>\n",
       "      <td>0.406071</td>\n",
       "      <td>0.429572</td>\n",
       "      <td>0.371541</td>\n",
       "      <td>0.348040</td>\n",
       "      <td>0.318696</td>\n",
       "      <td>0.266378</td>\n",
       "      <td>0.227800</td>\n",
       "      <td>0.216535</td>\n",
       "      <td>...</td>\n",
       "      <td>0.084200</td>\n",
       "      <td>0.065239</td>\n",
       "      <td>0.062307</td>\n",
       "      <td>0.044264</td>\n",
       "      <td>0.052914</td>\n",
       "      <td>4.692718e-02</td>\n",
       "      <td>0.121958</td>\n",
       "      <td>2.150612</td>\n",
       "      <td>0.121991</td>\n",
       "      <td>0.309876</td>\n",
       "    </tr>\n",
       "  </tbody>\n",
       "</table>\n",
       "<p>8 rows × 152 columns</p>\n",
       "</div>"
      ],
      "text/plain": [
       "      mfcc__01411riemen                                                      \\\n",
       "                      0            1            2            3            4   \n",
       "count       2112.000000  2112.000000  2112.000000  2112.000000  2112.000000   \n",
       "mean           0.199131     0.177811     0.183231     0.184432     0.162540   \n",
       "std            0.064254     0.057732     0.060081     0.060707     0.056112   \n",
       "min            0.000000     0.000000     0.000000     0.000000     0.000000   \n",
       "25%            0.145705     0.134663     0.138259     0.141214     0.122434   \n",
       "50%            0.200634     0.172321     0.178298     0.179787     0.154957   \n",
       "75%            0.236357     0.208111     0.218792     0.219504     0.194662   \n",
       "max            0.441394     0.395374     0.406071     0.429572     0.371541   \n",
       "\n",
       "                                                                        \\\n",
       "                 5            6            7            8            9   \n",
       "count  2112.000000  2112.000000  2112.000000  2112.000000  2112.000000   \n",
       "mean      0.135417     0.134149     0.129355     0.101557     0.074074   \n",
       "std       0.052098     0.047529     0.041667     0.037848     0.035254   \n",
       "min       0.000000     0.000000     0.000000     0.000000     0.000000   \n",
       "25%       0.097652     0.100820     0.101046     0.076844     0.050467   \n",
       "50%       0.122263     0.121661     0.120828     0.091306     0.059887   \n",
       "75%       0.165725     0.164704     0.155373     0.121751     0.093680   \n",
       "max       0.348040     0.318696     0.266378     0.227800     0.216535   \n",
       "\n",
       "           ...       mfcc__08DPA2                                         \\\n",
       "           ...                  9           10           11           12   \n",
       "count      ...        2112.000000  2112.000000  2112.000000  2112.000000   \n",
       "mean       ...           0.022890     0.008528     0.010046    -0.004013   \n",
       "std        ...           0.011740     0.011366     0.011885     0.010917   \n",
       "min        ...          -0.003412    -0.020701    -0.020433    -0.034928   \n",
       "25%        ...           0.015774     0.001342     0.002481    -0.010990   \n",
       "50%        ...           0.021302     0.007127     0.009440    -0.004812   \n",
       "75%        ...           0.027938     0.013642     0.016086     0.001525   \n",
       "max        ...           0.084200     0.065239     0.062307     0.044264   \n",
       "\n",
       "                                 s_centroid__08DPA2 rmse__08DPA2 s_bw__08DPA2  \\\n",
       "                13            14                  0            0            0   \n",
       "count  2112.000000  2.112000e+03        2112.000000  2112.000000  2112.000000   \n",
       "mean      0.009074 -3.481023e-07           0.101315     0.760562     0.110123   \n",
       "std       0.010403  1.113529e-02           0.012755     0.261109     0.012571   \n",
       "min      -0.019037 -2.925572e-02           0.000000     0.000000     0.000000   \n",
       "25%       0.002519 -6.653282e-03           0.098620     0.641979     0.109173   \n",
       "50%       0.008340 -2.744602e-04           0.102890     0.691265     0.111623   \n",
       "75%       0.014604  5.695588e-03           0.106757     0.778419     0.113762   \n",
       "max       0.052914  4.692718e-02           0.121958     2.150612     0.121991   \n",
       "\n",
       "      s_roll__08DPA2  \n",
       "                   0  \n",
       "count    2112.000000  \n",
       "mean        0.274424  \n",
       "std         0.035965  \n",
       "min         0.000000  \n",
       "25%         0.274380  \n",
       "50%         0.282988  \n",
       "75%         0.289352  \n",
       "max         0.309876  \n",
       "\n",
       "[8 rows x 152 columns]"
      ]
     },
     "execution_count": 32,
     "metadata": {},
     "output_type": "execute_result"
    }
   ],
   "source": [
    "result = data.iloc[[count for count, _ in enumerate(data['label']) if count != 0]]\n",
    "filt = data.label != 0\n",
    "data['label']=(data['label']>=1)*1\n",
    "numInputs = len(data.columns)-1\n",
    "y = data['label']\n",
    "x = data.drop(['label'], level=0,axis=1)\n",
    "\n",
    "X_train, X_test, y_train, y_test = train_test_split(x, y, test_size=0.5, random_state=42)\n",
    "\n",
    "x.describe()"
   ]
  },
  {
   "cell_type": "markdown",
   "metadata": {},
   "source": [
    "# Support Vector Machine"
   ]
  },
  {
   "cell_type": "code",
   "execution_count": 33,
   "metadata": {},
   "outputs": [
    {
     "name": "stderr",
     "output_type": "stream",
     "text": [
      "/root/miniconda2/envs/findRefrain3/lib/python3.6/site-packages/sklearn/utils/validation.py:578: DataConversionWarning: A column-vector y was passed when a 1d array was expected. Please change the shape of y to (n_samples, ), for example using ravel().\n",
      "  y = column_or_1d(y, warn=True)\n"
     ]
    },
    {
     "name": "stdout",
     "output_type": "stream",
     "text": [
      "0.767045454545\n"
     ]
    }
   ],
   "source": [
    "clf = svm.SVC()\n",
    "clf.fit(X_train,y_train)\n",
    "score = clf.score(X_test,y_test)\n",
    "print(score)"
   ]
  },
  {
   "cell_type": "code",
   "execution_count": 34,
   "metadata": {},
   "outputs": [],
   "source": [
    "y_pred = clf.predict(X_test)\n",
    "cm = confusion_matrix(y_test,y_pred)"
   ]
  },
  {
   "cell_type": "code",
   "execution_count": 35,
   "metadata": {},
   "outputs": [
    {
     "data": {
      "image/png": "[encoded data removed]",
      "text/plain": [
       "<matplotlib.figure.Figure at 0x7f5dfc5c2978>"
      ]
     },
     "metadata": {
      "needs_background": "light"
     },
     "output_type": "display_data"
    }
   ],
   "source": [
    "plt.imshow(cm)\n",
    "plt.colorbar()\n",
    "plt.title('confusion Matrix (SVM)')\n",
    "plt.show()"
   ]
  },
  {
   "cell_type": "code",
   "execution_count": 36,
   "metadata": {},
   "outputs": [],
   "source": [
    "fpr_clf, tpr_clf, thresholds_clf = sklearn.metrics.roc_curve(y_test, y_pred)"
   ]
  },
  {
   "cell_type": "markdown",
   "metadata": {},
   "source": [
    "## Feature Selection"
   ]
  },
  {
   "cell_type": "code",
   "execution_count": 37,
   "metadata": {},
   "outputs": [],
   "source": [
    "minx = x.min().min()\n",
    "maxx = x.max().max()\n",
    "scalex = maxx-minx\n",
    "\n",
    "np.save('minVal',minx)\n",
    "np.save('scaleFactorVal',scalex)\n",
    "\n",
    "\n",
    "X_train_n = (X_train-minx)/scalex\n",
    "X_test_n = (X_test-minx)/scalex"
   ]
  },
  {
   "cell_type": "code",
   "execution_count": 38,
   "metadata": {},
   "outputs": [
    {
     "data": {
      "text/html": [
       "<div>\n",
       "<style>\n",
       "    .dataframe thead tr:only-child th {\n",
       "        text-align: right;\n",
       "    }\n",
       "\n",
       "    .dataframe thead th {\n",
       "        text-align: left;\n",
       "    }\n",
       "\n",
       "    .dataframe tbody tr th {\n",
       "        vertical-align: top;\n",
       "    }\n",
       "</style>\n",
       "<table border=\"1\" class=\"dataframe\">\n",
       "  <thead>\n",
       "    <tr>\n",
       "      <th></th>\n",
       "      <th colspan=\"10\" halign=\"left\">mfcc__01411riemen</th>\n",
       "      <th>...</th>\n",
       "      <th colspan=\"6\" halign=\"left\">mfcc__08DPA2</th>\n",
       "      <th>s_centroid__08DPA2</th>\n",
       "      <th>rmse__08DPA2</th>\n",
       "      <th>s_bw__08DPA2</th>\n",
       "      <th>s_roll__08DPA2</th>\n",
       "    </tr>\n",
       "    <tr>\n",
       "      <th></th>\n",
       "      <th>0</th>\n",
       "      <th>1</th>\n",
       "      <th>2</th>\n",
       "      <th>3</th>\n",
       "      <th>4</th>\n",
       "      <th>5</th>\n",
       "      <th>6</th>\n",
       "      <th>7</th>\n",
       "      <th>8</th>\n",
       "      <th>9</th>\n",
       "      <th>...</th>\n",
       "      <th>9</th>\n",
       "      <th>10</th>\n",
       "      <th>11</th>\n",
       "      <th>12</th>\n",
       "      <th>13</th>\n",
       "      <th>14</th>\n",
       "      <th>0</th>\n",
       "      <th>0</th>\n",
       "      <th>0</th>\n",
       "      <th>0</th>\n",
       "    </tr>\n",
       "  </thead>\n",
       "  <tbody>\n",
       "    <tr>\n",
       "      <th>count</th>\n",
       "      <td>1056.000000</td>\n",
       "      <td>1056.000000</td>\n",
       "      <td>1056.000000</td>\n",
       "      <td>1056.000000</td>\n",
       "      <td>1056.000000</td>\n",
       "      <td>1056.000000</td>\n",
       "      <td>1056.000000</td>\n",
       "      <td>1056.000000</td>\n",
       "      <td>1056.000000</td>\n",
       "      <td>1056.000000</td>\n",
       "      <td>...</td>\n",
       "      <td>1056.000000</td>\n",
       "      <td>1056.000000</td>\n",
       "      <td>1056.000000</td>\n",
       "      <td>1056.000000</td>\n",
       "      <td>1056.000000</td>\n",
       "      <td>1056.000000</td>\n",
       "      <td>1056.000000</td>\n",
       "      <td>1056.000000</td>\n",
       "      <td>1056.000000</td>\n",
       "      <td>1056.000000</td>\n",
       "    </tr>\n",
       "    <tr>\n",
       "      <th>mean</th>\n",
       "      <td>0.088039</td>\n",
       "      <td>0.082234</td>\n",
       "      <td>0.083714</td>\n",
       "      <td>0.084069</td>\n",
       "      <td>0.078125</td>\n",
       "      <td>0.070800</td>\n",
       "      <td>0.070457</td>\n",
       "      <td>0.069076</td>\n",
       "      <td>0.061546</td>\n",
       "      <td>0.054129</td>\n",
       "      <td>...</td>\n",
       "      <td>0.040275</td>\n",
       "      <td>0.036397</td>\n",
       "      <td>0.036805</td>\n",
       "      <td>0.033046</td>\n",
       "      <td>0.036597</td>\n",
       "      <td>0.034106</td>\n",
       "      <td>0.061755</td>\n",
       "      <td>0.236669</td>\n",
       "      <td>0.064106</td>\n",
       "      <td>0.108803</td>\n",
       "    </tr>\n",
       "    <tr>\n",
       "      <th>std</th>\n",
       "      <td>0.016972</td>\n",
       "      <td>0.015196</td>\n",
       "      <td>0.015855</td>\n",
       "      <td>0.016030</td>\n",
       "      <td>0.014848</td>\n",
       "      <td>0.013885</td>\n",
       "      <td>0.012643</td>\n",
       "      <td>0.010931</td>\n",
       "      <td>0.009965</td>\n",
       "      <td>0.009385</td>\n",
       "      <td>...</td>\n",
       "      <td>0.003042</td>\n",
       "      <td>0.002978</td>\n",
       "      <td>0.003151</td>\n",
       "      <td>0.002910</td>\n",
       "      <td>0.002754</td>\n",
       "      <td>0.002928</td>\n",
       "      <td>0.003186</td>\n",
       "      <td>0.063845</td>\n",
       "      <td>0.003081</td>\n",
       "      <td>0.009025</td>\n",
       "    </tr>\n",
       "    <tr>\n",
       "      <th>min</th>\n",
       "      <td>0.034203</td>\n",
       "      <td>0.034203</td>\n",
       "      <td>0.034203</td>\n",
       "      <td>0.034203</td>\n",
       "      <td>0.034203</td>\n",
       "      <td>0.034203</td>\n",
       "      <td>0.034203</td>\n",
       "      <td>0.034203</td>\n",
       "      <td>0.034203</td>\n",
       "      <td>0.034203</td>\n",
       "      <td>...</td>\n",
       "      <td>0.033731</td>\n",
       "      <td>0.028597</td>\n",
       "      <td>0.028669</td>\n",
       "      <td>0.025453</td>\n",
       "      <td>0.029603</td>\n",
       "      <td>0.026380</td>\n",
       "      <td>0.034203</td>\n",
       "      <td>0.034203</td>\n",
       "      <td>0.034203</td>\n",
       "      <td>0.034203</td>\n",
       "    </tr>\n",
       "    <tr>\n",
       "      <th>25%</th>\n",
       "      <td>0.073609</td>\n",
       "      <td>0.070486</td>\n",
       "      <td>0.071678</td>\n",
       "      <td>0.072763</td>\n",
       "      <td>0.067391</td>\n",
       "      <td>0.060681</td>\n",
       "      <td>0.061360</td>\n",
       "      <td>0.061827</td>\n",
       "      <td>0.055134</td>\n",
       "      <td>0.047883</td>\n",
       "      <td>...</td>\n",
       "      <td>0.038444</td>\n",
       "      <td>0.034490</td>\n",
       "      <td>0.034871</td>\n",
       "      <td>0.031223</td>\n",
       "      <td>0.034857</td>\n",
       "      <td>0.032334</td>\n",
       "      <td>0.060931</td>\n",
       "      <td>0.207353</td>\n",
       "      <td>0.063768</td>\n",
       "      <td>0.108631</td>\n",
       "    </tr>\n",
       "    <tr>\n",
       "      <th>50%</th>\n",
       "      <td>0.088555</td>\n",
       "      <td>0.080947</td>\n",
       "      <td>0.082516</td>\n",
       "      <td>0.082966</td>\n",
       "      <td>0.076190</td>\n",
       "      <td>0.067177</td>\n",
       "      <td>0.067159</td>\n",
       "      <td>0.066633</td>\n",
       "      <td>0.058781</td>\n",
       "      <td>0.050452</td>\n",
       "      <td>...</td>\n",
       "      <td>0.039887</td>\n",
       "      <td>0.036092</td>\n",
       "      <td>0.036590</td>\n",
       "      <td>0.032749</td>\n",
       "      <td>0.036336</td>\n",
       "      <td>0.034010</td>\n",
       "      <td>0.062133</td>\n",
       "      <td>0.220145</td>\n",
       "      <td>0.064420</td>\n",
       "      <td>0.110916</td>\n",
       "    </tr>\n",
       "    <tr>\n",
       "      <th>75%</th>\n",
       "      <td>0.098022</td>\n",
       "      <td>0.089643</td>\n",
       "      <td>0.093216</td>\n",
       "      <td>0.093514</td>\n",
       "      <td>0.086426</td>\n",
       "      <td>0.078015</td>\n",
       "      <td>0.078137</td>\n",
       "      <td>0.075425</td>\n",
       "      <td>0.066587</td>\n",
       "      <td>0.059440</td>\n",
       "      <td>...</td>\n",
       "      <td>0.041695</td>\n",
       "      <td>0.037749</td>\n",
       "      <td>0.038403</td>\n",
       "      <td>0.034541</td>\n",
       "      <td>0.038069</td>\n",
       "      <td>0.035667</td>\n",
       "      <td>0.063153</td>\n",
       "      <td>0.242153</td>\n",
       "      <td>0.065010</td>\n",
       "      <td>0.112628</td>\n",
       "    </tr>\n",
       "    <tr>\n",
       "      <th>max</th>\n",
       "      <td>0.147014</td>\n",
       "      <td>0.141276</td>\n",
       "      <td>0.144173</td>\n",
       "      <td>0.150537</td>\n",
       "      <td>0.131864</td>\n",
       "      <td>0.123276</td>\n",
       "      <td>0.120510</td>\n",
       "      <td>0.105283</td>\n",
       "      <td>0.094890</td>\n",
       "      <td>0.092844</td>\n",
       "      <td>...</td>\n",
       "      <td>0.056978</td>\n",
       "      <td>0.051870</td>\n",
       "      <td>0.050372</td>\n",
       "      <td>0.045288</td>\n",
       "      <td>0.047472</td>\n",
       "      <td>0.045423</td>\n",
       "      <td>0.067184</td>\n",
       "      <td>0.582540</td>\n",
       "      <td>0.067193</td>\n",
       "      <td>0.118122</td>\n",
       "    </tr>\n",
       "  </tbody>\n",
       "</table>\n",
       "<p>8 rows × 152 columns</p>\n",
       "</div>"
      ],
      "text/plain": [
       "      mfcc__01411riemen                                                      \\\n",
       "                      0            1            2            3            4   \n",
       "count       1056.000000  1056.000000  1056.000000  1056.000000  1056.000000   \n",
       "mean           0.088039     0.082234     0.083714     0.084069     0.078125   \n",
       "std            0.016972     0.015196     0.015855     0.016030     0.014848   \n",
       "min            0.034203     0.034203     0.034203     0.034203     0.034203   \n",
       "25%            0.073609     0.070486     0.071678     0.072763     0.067391   \n",
       "50%            0.088555     0.080947     0.082516     0.082966     0.076190   \n",
       "75%            0.098022     0.089643     0.093216     0.093514     0.086426   \n",
       "max            0.147014     0.141276     0.144173     0.150537     0.131864   \n",
       "\n",
       "                                                                        \\\n",
       "                 5            6            7            8            9   \n",
       "count  1056.000000  1056.000000  1056.000000  1056.000000  1056.000000   \n",
       "mean      0.070800     0.070457     0.069076     0.061546     0.054129   \n",
       "std       0.013885     0.012643     0.010931     0.009965     0.009385   \n",
       "min       0.034203     0.034203     0.034203     0.034203     0.034203   \n",
       "25%       0.060681     0.061360     0.061827     0.055134     0.047883   \n",
       "50%       0.067177     0.067159     0.066633     0.058781     0.050452   \n",
       "75%       0.078015     0.078137     0.075425     0.066587     0.059440   \n",
       "max       0.123276     0.120510     0.105283     0.094890     0.092844   \n",
       "\n",
       "           ...       mfcc__08DPA2                                         \\\n",
       "           ...                  9           10           11           12   \n",
       "count      ...        1056.000000  1056.000000  1056.000000  1056.000000   \n",
       "mean       ...           0.040275     0.036397     0.036805     0.033046   \n",
       "std        ...           0.003042     0.002978     0.003151     0.002910   \n",
       "min        ...           0.033731     0.028597     0.028669     0.025453   \n",
       "25%        ...           0.038444     0.034490     0.034871     0.031223   \n",
       "50%        ...           0.039887     0.036092     0.036590     0.032749   \n",
       "75%        ...           0.041695     0.037749     0.038403     0.034541   \n",
       "max        ...           0.056978     0.051870     0.050372     0.045288   \n",
       "\n",
       "                                s_centroid__08DPA2 rmse__08DPA2 s_bw__08DPA2  \\\n",
       "                13           14                  0            0            0   \n",
       "count  1056.000000  1056.000000        1056.000000  1056.000000  1056.000000   \n",
       "mean      0.036597     0.034106           0.061755     0.236669     0.064106   \n",
       "std       0.002754     0.002928           0.003186     0.063845     0.003081   \n",
       "min       0.029603     0.026380           0.034203     0.034203     0.034203   \n",
       "25%       0.034857     0.032334           0.060931     0.207353     0.063768   \n",
       "50%       0.036336     0.034010           0.062133     0.220145     0.064420   \n",
       "75%       0.038069     0.035667           0.063153     0.242153     0.065010   \n",
       "max       0.047472     0.045423           0.067184     0.582540     0.067193   \n",
       "\n",
       "      s_roll__08DPA2  \n",
       "                   0  \n",
       "count    1056.000000  \n",
       "mean        0.108803  \n",
       "std         0.009025  \n",
       "min         0.034203  \n",
       "25%         0.108631  \n",
       "50%         0.110916  \n",
       "75%         0.112628  \n",
       "max         0.118122  \n",
       "\n",
       "[8 rows x 152 columns]"
      ]
     },
     "execution_count": 38,
     "metadata": {},
     "output_type": "execute_result"
    }
   ],
   "source": [
    "X_train_n.describe()"
   ]
  },
  {
   "cell_type": "code",
   "execution_count": 39,
   "metadata": {},
   "outputs": [],
   "source": [
    "scores = sklearn.feature_selection.chi2(X_train_n, y_train)"
   ]
  },
  {
   "cell_type": "code",
   "execution_count": 40,
   "metadata": {},
   "outputs": [],
   "source": [
    "labs = X_train_n.columns.labels[0]\n",
    "names = X_train_n.columns.levels[0]\n",
    "\n",
    "featLabelList = []\n",
    "for i in range(len(labs)):\n",
    "    featLabelList.append(names[labs[i]])\n",
    "\n"
   ]
  },
  {
   "cell_type": "code",
   "execution_count": 41,
   "metadata": {},
   "outputs": [
    {
     "data": {
      "image/png": "[encoded data removed]",
      "text/plain": [
       "<matplotlib.figure.Figure at 0x7f5dfc52d8d0>"
      ]
     },
     "metadata": {
      "needs_background": "light"
     },
     "output_type": "display_data"
    }
   ],
   "source": [
    "plt.figure(figsize=[28,5])\n",
    "plt.bar(np.arange(len(scores[0])),np.log10(scores[0]))\n",
    "plt.xticks(np.arange(len(featLabelList)), featLabelList, rotation='vertical')\n",
    "plt.title('$log10(\\chi^{2})$ (higher is better)')\n",
    "plt.grid()\n",
    "plt.show()"
   ]
  },
  {
   "cell_type": "code",
   "execution_count": 42,
   "metadata": {},
   "outputs": [],
   "source": [
    "sortedFeatLabelList = [x for _,x in sorted(zip(scores[0],featLabelList))]\n",
    "sortedScores = sorted(scores[0])"
   ]
  },
  {
   "cell_type": "code",
   "execution_count": 43,
   "metadata": {},
   "outputs": [],
   "source": [
    "Nfeatures = 15"
   ]
  },
  {
   "cell_type": "code",
   "execution_count": 44,
   "metadata": {},
   "outputs": [],
   "source": [
    "fselector = sklearn.feature_selection.SelectKBest(sklearn.feature_selection.chi2, k=Nfeatures,)\n",
    "x_train_reduced = fselector.fit_transform(X_train_n, y_train)\n",
    "mask = fselector.get_support()\n",
    "x_test_reduced = np.array(X_test_n)[:,mask.ravel()]"
   ]
  },
  {
   "cell_type": "code",
   "execution_count": 45,
   "metadata": {},
   "outputs": [],
   "source": [
    "np.save('featuremask', mask)"
   ]
  },
  {
   "cell_type": "markdown",
   "metadata": {},
   "source": [
    "# Selected Features"
   ]
  },
  {
   "cell_type": "code",
   "execution_count": 48,
   "metadata": {},
   "outputs": [
    {
     "data": {
      "image/png": "[encoded data removed]",
      "text/plain": [
       "<matplotlib.figure.Figure at 0x7f5dec242c50>"
      ]
     },
     "metadata": {
      "needs_background": "light"
     },
     "output_type": "display_data"
    }
   ],
   "source": [
    "shortLabs = sortedFeatLabelList[-Nfeatures:]\n",
    "shortScores = sortedScores[-Nfeatures:]\n",
    "plt.figure(figsize=[17,5])\n",
    "plt.bar(np.arange(len(shortScores)),np.log10(shortScores))\n",
    "plt.xticks(np.arange(len(shortLabs)), shortLabs, rotation='vertical')\n",
    "plt.title('$log10(\\chi^{2})$ of the 15 best Features')\n",
    "plt.grid()\n",
    "plt.gcf().subplots_adjust(bottom=0.5)\n",
    "plt.savefig('bestFeatures')\n",
    "plt.show()"
   ]
  },
  {
   "cell_type": "markdown",
   "metadata": {},
   "source": [
    "# Neural Network\n",
    "## Construction"
   ]
  },
  {
   "cell_type": "code",
   "execution_count": 22,
   "metadata": {},
   "outputs": [],
   "source": [
    "from keras import regularizers"
   ]
  },
  {
   "cell_type": "code",
   "execution_count": 23,
   "metadata": {},
   "outputs": [],
   "source": [
    "numInputs = x_train_reduced.shape[1]\n",
    "m = keras.models.Sequential()\n",
    "m.add(Dense(numInputs,input_shape=(numInputs,),kernel_regularizer=regularizers.l1(0.0001),activity_regularizer=regularizers.l1(0.0)))\n",
    "m.add(keras.layers.Dropout(0.1, noise_shape=None, seed=42))\n",
    "m.add(Dense(numInputs//2,activation='sigmoid',kernel_regularizer=regularizers.l1(0.001),activity_regularizer=regularizers.l1(0.0)))\n",
    "m.add(keras.layers.Dropout(0.05, noise_shape=None, seed=27))\n",
    "m.add(Dense(1, activation='sigmoid'))\n"
   ]
  },
  {
   "cell_type": "code",
   "execution_count": 24,
   "metadata": {},
   "outputs": [],
   "source": [
    "keras.utils.plot_model(m,to_file='model.png',show_shapes=True,)"
   ]
  },
  {
   "cell_type": "markdown",
   "metadata": {},
   "source": [
    "![bla](model.png)"
   ]
  },
  {
   "cell_type": "code",
   "execution_count": 25,
   "metadata": {},
   "outputs": [],
   "source": [
    "m.compile(loss='binary_crossentropy', optimizer='adam', metrics=['accuracy'],)"
   ]
  },
  {
   "cell_type": "code",
   "execution_count": 26,
   "metadata": {},
   "outputs": [],
   "source": [
    "y_train_arr = np.array(y_train).flatten()\n",
    "y_train_arr = to_categorical(y_train_arr)\n",
    "y_train_enc = np.argmax(y_train_arr,axis=1)\n",
    "\n",
    "y_test_arr = np.array(y_test).flatten()\n",
    "y_test_arr = to_categorical(y_test_arr)\n",
    "y_test_enc = np.argmax(y_test_arr,axis=1)"
   ]
  },
  {
   "cell_type": "code",
   "execution_count": 27,
   "metadata": {},
   "outputs": [],
   "source": [
    "x_train_arr = np.array(x_train_reduced)\n",
    "x_test_arr = np.array(X_test)\n",
    "# xArr.shape"
   ]
  },
  {
   "cell_type": "markdown",
   "metadata": {},
   "source": [
    "## Training"
   ]
  },
  {
   "cell_type": "code",
   "execution_count": 28,
   "metadata": {},
   "outputs": [],
   "source": [
    "history = m.fit(x_train_arr,y_train_enc,batch_size=2**18,validation_split=0.3,epochs=50000,verbose=0)"
   ]
  },
  {
   "cell_type": "code",
   "execution_count": 29,
   "metadata": {},
   "outputs": [
    {
     "data": {
      "image/png": "[encoded data removed]",
      "text/plain": [
       "<matplotlib.figure.Figure at 0x7f7a982cfba8>"
      ]
     },
     "metadata": {
      "needs_background": "light"
     },
     "output_type": "display_data"
    }
   ],
   "source": [
    "plt.figure(figsize=[17,5])\n",
    "plt.plot(history.history['acc'], label='accuracy')\n",
    "plt.plot(history.history['loss'], label='loss')\n",
    "plt.title('Model Accuracy')\n",
    "plt.grid()\n",
    "plt.legend()\n",
    "plt.show()"
   ]
  },
  {
   "cell_type": "markdown",
   "metadata": {},
   "source": [
    "## Evaluation"
   ]
  },
  {
   "cell_type": "code",
   "execution_count": 30,
   "metadata": {},
   "outputs": [
    {
     "name": "stdout",
     "output_type": "stream",
     "text": [
      "1056/1056 [==============================] - 0s 47us/step\n"
     ]
    },
    {
     "data": {
      "text/plain": [
       "[0.18927567610234924, 0.93465909090909094]"
      ]
     },
     "execution_count": 30,
     "metadata": {},
     "output_type": "execute_result"
    }
   ],
   "source": [
    "m.evaluate(x_test_reduced,y_test_enc)"
   ]
  },
  {
   "cell_type": "code",
   "execution_count": 31,
   "metadata": {},
   "outputs": [],
   "source": [
    "y_pred = m.predict(x_test_reduced)"
   ]
  },
  {
   "cell_type": "code",
   "execution_count": 32,
   "metadata": {},
   "outputs": [],
   "source": [
    "fpr_keras, tpr_keras, thresholds_keras = sklearn.metrics.roc_curve(y_test_enc, y_pred)"
   ]
  },
  {
   "cell_type": "code",
   "execution_count": 33,
   "metadata": {},
   "outputs": [],
   "source": [
    "auc_keras = sklearn.metrics.auc(fpr_keras, tpr_keras)"
   ]
  },
  {
   "cell_type": "code",
   "execution_count": 42,
   "metadata": {},
   "outputs": [
    {
     "data": {
      "image/png": "[encoded data removed]",
      "text/plain": [
       "<matplotlib.figure.Figure at 0x7f7aa0133d68>"
      ]
     },
     "metadata": {
      "needs_background": "light"
     },
     "output_type": "display_data"
    }
   ],
   "source": [
    "plt.figure(1)\n",
    "plt.plot([0, 1], [0, 1], 'k--')\n",
    "plt.plot(fpr_keras, tpr_keras, label='Model (area = {:.3f})'.format(auc_keras))\n",
    "# plt.plot(fpr_rf, tpr_rf, label='RF (area = {:.3f})'.format(auc_rf))\n",
    "plt.fill_between(fpr_keras,tpr_keras,alpha=0.3)\n",
    "plt.xlabel('False positive rate')\n",
    "plt.ylabel('True positive rate')\n",
    "plt.title('ROC')\n",
    "plt.grid()\n",
    "plt.legend(loc='best')\n",
    "plt.savefig('ROC.png')\n",
    "plt.show()"
   ]
  },
  {
   "cell_type": "code",
   "execution_count": 35,
   "metadata": {},
   "outputs": [
    {
     "data": {
      "image/png": "[encoded data removed]",
      "text/plain": [
       "<matplotlib.figure.Figure at 0x7f7a88c1ff28>"
      ]
     },
     "metadata": {
      "needs_background": "light"
     },
     "output_type": "display_data"
    }
   ],
   "source": [
    "yThresholded = y_pred.flatten()>0.5\n",
    "cm = confusion_matrix(y_test_enc,yThresholded)\n",
    "plt.imshow(cm)\n",
    "plt.colorbar()\n",
    "plt.title('confusion Matrix')\n",
    "plt.show()"
   ]
  },
  {
   "cell_type": "code",
   "execution_count": 36,
   "metadata": {},
   "outputs": [
    {
     "data": {
      "text/plain": [
       "array([[482,  34],\n",
       "       [ 35, 505]])"
      ]
     },
     "execution_count": 36,
     "metadata": {},
     "output_type": "execute_result"
    }
   ],
   "source": [
    "cm"
   ]
  },
  {
   "cell_type": "code",
   "execution_count": 45,
   "metadata": {},
   "outputs": [],
   "source": [
    "tn, fp, fn, tp = confusion_matrix(y_test_enc,yThresholded).ravel()"
   ]
  },
  {
   "cell_type": "code",
   "execution_count": 37,
   "metadata": {},
   "outputs": [],
   "source": [
    "m.save('model.hdf5')"
   ]
  },
  {
   "cell_type": "markdown",
   "metadata": {},
   "source": [
    "# Measure Performance\n",
    "Prediction of a single frame (without feature computation)"
   ]
  },
  {
   "cell_type": "code",
   "execution_count": 38,
   "metadata": {},
   "outputs": [],
   "source": [
    "testframe = np.array([x_train_reduced[1,:]])"
   ]
  },
  {
   "cell_type": "code",
   "execution_count": 39,
   "metadata": {},
   "outputs": [
    {
     "name": "stdout",
     "output_type": "stream",
     "text": [
      "727 µs ± 68.4 µs per loop (mean ± std. dev. of 7 runs, 1000 loops each)\n"
     ]
    }
   ],
   "source": [
    "%%timeit\n",
    "m.predict(testframe)"
   ]
  }
 ],
 "metadata": {
  "kernelspec": {
   "display_name": "Python3 (findRef)",
   "language": "python",
   "name": "findrefrain3"
  },
  "language_info": {
   "codemirror_mode": {
    "name": "ipython",
    "version": 3
   },
   "file_extension": ".py",
   "mimetype": "text/x-python",
   "name": "python",
   "nbconvert_exporter": "python",
   "pygments_lexer": "ipython3",
   "version": "3.6.3"
  }
 },
 "nbformat": 4,
 "nbformat_minor": 2
}
